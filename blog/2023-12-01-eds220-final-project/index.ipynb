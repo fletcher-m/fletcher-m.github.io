{
  "cells": [
    {
      "cell_type": "raw",
      "metadata": {},
      "source": [
        "---\n",
        "title: \"Plotting AQI and Thomas Fire Burn Area in Santa Barbara County in Python \"\n",
        "description: \"This is an analysis that I did where I looked at daily air quality index values in Santa Barbara in 2017-2018 as well as the area burned by the Thomas Fire (2017) and plotted both.\"\n",
        "author:\n",
        "  - name: Fletcher McConnell\n",
        "    url: https://fletcher-m.github.io/\n",
        "   # orcid:\n",
        "    affiliation: MEDS\n",
        "    affiliation-url: https://bren.ucsb.edu/masters-programs/master-environmental-data-science/academics-meds\n",
        " # - name: other person\n",
        "date: 12-01-2023\n",
        "categories: [Quarto, MEDS, Workshop]\n",
        "bibliography: references.bib\n",
        "citation:\n",
        "  url: https://fletcher-m.github.io/blog/2023-10-23-my-first-post/\n",
        "#image: ocean_data_image.jpeg\n",
        "# draft: true --> This setting will not show your blog post on your website but you can still see from url\n",
        "---"
      ],
      "id": "f250c936"
    }
  ],
  "metadata": {
    "kernelspec": {
      "name": "eds217_2023",
      "language": "python",
      "display_name": "Python (eds217_2023)"
    }
  },
  "nbformat": 4,
  "nbformat_minor": 5
}